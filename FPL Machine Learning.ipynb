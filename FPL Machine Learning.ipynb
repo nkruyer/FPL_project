{
 "cells": [
  {
   "cell_type": "code",
   "execution_count": 1,
   "id": "271b2ddd",
   "metadata": {},
   "outputs": [
    {
     "name": "stdout",
     "output_type": "stream",
     "text": [
      "Intel MKL WARNING: Support of Intel(R) Streaming SIMD Extensions 4.2 (Intel(R) SSE4.2) enabled only processors has been deprecated. Intel oneAPI Math Kernel Library 2025.0 will require Intel(R) Advanced Vector Extensions (Intel(R) AVX) instructions.\n",
      "Intel MKL WARNING: Support of Intel(R) Streaming SIMD Extensions 4.2 (Intel(R) SSE4.2) enabled only processors has been deprecated. Intel oneAPI Math Kernel Library 2025.0 will require Intel(R) Advanced Vector Extensions (Intel(R) AVX) instructions.\n"
     ]
    }
   ],
   "source": [
    "import pandas as pd\n",
    "from source.classes import FPL_data\n",
    "import itertools\n",
    "import matplotlib.pyplot as plt\n",
    "from sklearn.feature_selection import r_regression, f_regression, mutual_info_regression"
   ]
  },
  {
   "cell_type": "code",
   "execution_count": null,
   "id": "504e476f",
   "metadata": {},
   "outputs": [],
   "source": [
    "data_fpath = '/Users/nick/PycharmProjects/FPL_project/data/performance_data_GW4.csv'\n",
    "data_df = pd.read_csv(data_fpath)"
   ]
  },
  {
   "cell_type": "code",
   "execution_count": null,
   "id": "1ef47294",
   "metadata": {},
   "outputs": [],
   "source": [
    "# parse data input for ML input\n",
    "# should turn this into a function eventually (part of the class)\n",
    "stats_of_interest = ['element',\n",
    "                     'total_points',\n",
    "                     'opponent_team',\n",
    "                     'was_home',\n",
    "                     'opponent_strength',\n",
    "                     'oppoenet_attack',\n",
    "                     'opponent_defense',\n",
    "                     'form',\n",
    "                     'preround_total_points',\n",
    "                     'transfers_reduced',\n",
    "                     'average_points',\n",
    "                     'preround_influence',\n",
    "                     'preround_creativity',\n",
    "                     'preround_threat',\n",
    "                     'preround_ict',\n",
    "                     'value'\n",
    "                     ]\n",
    "\n",
    "ML_in = data_df[stats_of_interest].sort_values(by = ['element'])\n",
    "\n",
    "home = []\n",
    "for i in list(ML_in['was_home']):\n",
    "    if i:\n",
    "        home.append(1)\n",
    "    else:\n",
    "        home.append(0)\n",
    "ML_in['was_home'] = home"
   ]
  },
  {
   "cell_type": "code",
   "execution_count": null,
   "id": "19663943",
   "metadata": {},
   "outputs": [],
   "source": [
    "# remove element column\n",
    "ML_in = ML_in.drop(labels = ['element'], axis = 1)\n",
    "\n",
    "# remove first appearances\n",
    "ML_in = ML_in[ML_in['form'] != 0]"
   ]
  },
  {
   "cell_type": "code",
   "execution_count": 2,
   "id": "ce5bc100",
   "metadata": {},
   "outputs": [],
   "source": [
    "gg = FPL_data()"
   ]
  },
  {
   "cell_type": "code",
   "execution_count": null,
   "id": "5b4f301b",
   "metadata": {},
   "outputs": [],
   "source": [
    "# test different K Neighbors\n",
    "fig, axes = plt.subplots(nrows=1, ncols=8, sharey=True)\n",
    "y = 0\n",
    "\n",
    "for w, n in itertools.product(['uniform','distance'], [5, 10, 15, 20]):\n",
    "    gg.build_knn(type_scaler = 'range', weights = w)\n",
    "    print('KNN', w, n)\n",
    "    gg.predict('knn')\n",
    "    xx = range(1,len(gg.data_dict['y_test']['raw'])+1)\n",
    "    axes[y].scatter(xx, gg.data_dict['y_test']['raw'])\n",
    "    axes[y].scatter(xx, gg.data_dict['y_predicted']['knn'], color = 'r')\n",
    "    axes[y].set_title(f'KNN - {w}, {n}')\n",
    "    y += 1"
   ]
  },
  {
   "cell_type": "code",
   "execution_count": null,
   "id": "20aea3c1",
   "metadata": {},
   "outputs": [],
   "source": [
    "gg.knn_regression.score(gg.data_dict['X_test']['reduced'], gg.data_dict['y_test']['raw'])"
   ]
  },
  {
   "cell_type": "code",
   "execution_count": null,
   "id": "5f1a5dd3",
   "metadata": {},
   "outputs": [],
   "source": [
    "# test different SVR kernels\n",
    "fig, axes = plt.subplots(nrows=1, ncols=3, sharey=True)\n",
    "x = 0\n",
    "y = 0\n",
    "\n",
    "for k in ['rbf', 'linear', 'poly']: #, 'sigmoid']:\n",
    "    gg.build_svr(type_scaler = 'range', kernel_type = k, feature_selection = r_regression)\n",
    "    print('SVR ', k)\n",
    "    gg.predict('svr')\n",
    "    xx = range(1,len(gg.data_dict['y_test']['raw'])+1)\n",
    "    axes[y].scatter(xx, gg.data_dict['y_test']['raw'])\n",
    "    axes[y].scatter(xx, gg.data_dict['y_predicted']['svr'], color = 'r')\n",
    "    axes[y].set_title(f'SVR - {k}')\n",
    "    y += 1"
   ]
  },
  {
   "cell_type": "code",
   "execution_count": null,
   "id": "c82bbbe2",
   "metadata": {},
   "outputs": [],
   "source": [
    "# test different SVR kernels\n",
    "fig, axes = plt.subplots(nrows=1, ncols=8, sharey=True)\n",
    "x = 0\n",
    "y = 0\n",
    "\n",
    "for k in ['rbf', 'linear', 'poly']: #, 'sigmoid']:\n",
    "    gg.build_svr(type_scaler = 'range', kernel_type = k, feature_selection = r_regression)\n",
    "    print('SVR ', k)\n",
    "    gg.predict('svr')\n",
    "    xx = range(1,len(gg.data_dict['y_test']['raw'])+1)\n",
    "    axes[y].scatter(xx, gg.data_dict['y_test']['raw'])\n",
    "    axes[y].scatter(xx, gg.data_dict['y_predicted']['svr'], color = 'r')\n",
    "    axes[y].set_title(f'SVR - {k}')\n",
    "    y += 1\n",
    "    \n",
    "    \n",
    "# test different K Neighbors\n",
    "for w, n in itertools.product(['uniform','distance'], [10]):\n",
    "    gg.build_knn(type_scaler = 'range', weights = w)\n",
    "    print('KNN', w, n)\n",
    "    gg.predict('knn')\n",
    "    xx = range(1,len(gg.data_dict['y_test']['raw'])+1)\n",
    "    axes[y].scatter(xx, gg.data_dict['y_test']['raw'])\n",
    "    axes[y].scatter(xx, gg.data_dict['y_predicted']['knn'], color = 'r')\n",
    "    axes[y].set_title(f'KNN - {w}, {n}')\n",
    "    y += 1\n",
    "    \n",
    "# test different decision trees\n",
    "for c in ['squared_error', 'friedman_mse', 'absolute_error']:\n",
    "    gg.build_dtr(type_scaler = 'range', criterion = c)\n",
    "    print('DTR', c)\n",
    "    gg.predict('dtr')\n",
    "    xx = range(1,len(gg.data_dict['y_test']['raw'])+1)\n",
    "    axes[y].scatter(xx, gg.data_dict['y_test']['raw'])\n",
    "    axes[y].scatter(xx, gg.data_dict['y_predicted']['dtr'], color = 'r')\n",
    "    axes[y].set_title(f'DTR - {c}')\n",
    "    y += 1"
   ]
  },
  {
   "cell_type": "code",
   "execution_count": null,
   "id": "cc194315",
   "metadata": {},
   "outputs": [],
   "source": [
    "# test different decision trees\n",
    "fig, axes = plt.subplots(nrows=1, ncols=3, sharey=True)\n",
    "x = 0\n",
    "y = 0\n",
    "for c in ['squared_error', 'friedman_mse', 'absolute_error']:\n",
    "    gg.build_dtr(type_scaler = 'range', criterion = c)\n",
    "    print('DTR', c)\n",
    "    gg.predict('dtr')\n",
    "    xx = range(1,len(gg.data_dict['y_test']['raw'])+1)\n",
    "    axes[y].scatter(xx, gg.data_dict['y_test']['raw'])\n",
    "    axes[y].scatter(xx, gg.data_dict['y_predicted']['dtr'], color = 'r')\n",
    "    axes[y].set_title(f'DTR - {c}')\n",
    "    y += 1"
   ]
  },
  {
   "cell_type": "code",
   "execution_count": 3,
   "id": "1086d763",
   "metadata": {},
   "outputs": [
    {
     "name": "stderr",
     "output_type": "stream",
     "text": [
      "/Users/nick/opt/anaconda3/envs/FPL_project/lib/python3.11/site-packages/sklearn/neural_network/_multilayer_perceptron.py:686: ConvergenceWarning: Stochastic Optimizer: Maximum iterations (500) reached and the optimization hasn't converged yet.\n",
      "  warnings.warn(\n"
     ]
    },
    {
     "name": "stdout",
     "output_type": "stream",
     "text": [
      "MLP <function r_regression at 0x12af9e0c0>\n",
      "0.01887959183954313\n"
     ]
    },
    {
     "name": "stderr",
     "output_type": "stream",
     "text": [
      "/Users/nick/opt/anaconda3/envs/FPL_project/lib/python3.11/site-packages/sklearn/neural_network/_multilayer_perceptron.py:686: ConvergenceWarning: Stochastic Optimizer: Maximum iterations (500) reached and the optimization hasn't converged yet.\n",
      "  warnings.warn(\n"
     ]
    },
    {
     "name": "stdout",
     "output_type": "stream",
     "text": [
      "MLP <function f_regression at 0x12af9e160>\n",
      "0.06122339299551405\n"
     ]
    },
    {
     "name": "stderr",
     "output_type": "stream",
     "text": [
      "/Users/nick/opt/anaconda3/envs/FPL_project/lib/python3.11/site-packages/sklearn/neural_network/_multilayer_perceptron.py:686: ConvergenceWarning: Stochastic Optimizer: Maximum iterations (500) reached and the optimization hasn't converged yet.\n",
      "  warnings.warn(\n"
     ]
    },
    {
     "name": "stdout",
     "output_type": "stream",
     "text": [
      "MLP <function mutual_info_regression at 0x12afc51c0>\n",
      "0.03864052175341237\n"
     ]
    },
    {
     "data": {
      "image/png": "[encoded data removed]",
      "text/plain": [
       "<Figure size 432x288 with 3 Axes>"
      ]
     },
     "metadata": {
      "needs_background": "light"
     },
     "output_type": "display_data"
    }
   ],
   "source": [
    "# test different mlp\n",
    "fig, axes = plt.subplots(nrows=1, ncols=3, sharey=True)\n",
    "x = 0\n",
    "y = 0\n",
    "for fs in [r_regression, f_regression, mutual_info_regression]:\n",
    "    gg.build_mlp(type_scaler = 'range', feature_selection = fs)\n",
    "    print('MLP', fs)\n",
    "    gg.predict('mlp')\n",
    "    xx = range(1,len(gg.data_dict['y_test']['raw'])+1)\n",
    "    axes[y].scatter(xx, gg.data_dict['y_test']['raw'])\n",
    "    axes[y].scatter(xx, gg.data_dict['y_predicted']['mlp'], color = 'r')\n",
    "    axes[y].set_title(f'MLP - {fs}')\n",
    "    y += 1"
   ]
  },
  {
   "cell_type": "code",
   "execution_count": null,
   "id": "4a388929",
   "metadata": {},
   "outputs": [],
   "source": [
    "xx = range(1,len(gg.data_dict['y_test']['raw'])+1)\n",
    "plt.scatter(xx, gg.data_dict['y_test']['raw'])\n",
    "plt.scatter(xx, gg.data_dict['y_predicted']['dtr'], color = 'r')"
   ]
  },
  {
   "cell_type": "code",
   "execution_count": 37,
   "id": "f6123321",
   "metadata": {},
   "outputs": [],
   "source": [
    "from source.ML_analysis import prepare_model_input\n",
    "\n",
    "# add position to input data\n",
    "gg.input_data['position'] = [gg.player_dict[i]['element_type'] for i in gg.input_data['element']]\n",
    "\n",
    "gg.forwards = gg.input_data[gg.input_data['position'] == 4].reset_index(drop = True)\n",
    "gg.forward_ML = prepare_model_input(gg.forwards)\n",
    "\n",
    "gg.keepers = gg.input_data[gg.input_data['position'] == 1].reset_index(drop = True)\n",
    "gg.keeper_ML = prepare_model_input(gg.keepers)\n",
    "\n",
    "gg.defenders = gg.input_data[gg.input_data['position'] == 2].reset_index(drop = True)\n",
    "gg.defender_ML = prepare_model_input(gg.defenders)\n",
    "\n",
    "gg.mids = gg.input_data[gg.input_data['position'] == 3].reset_index(drop = True)\n",
    "gg.mid_ML = prepare_model_input(gg.mids)"
   ]
  },
  {
   "cell_type": "code",
   "execution_count": 39,
   "id": "dd09f824",
   "metadata": {},
   "outputs": [
    {
     "name": "stderr",
     "output_type": "stream",
     "text": [
      "/Users/nick/opt/anaconda3/envs/FPL_project/lib/python3.11/site-packages/sklearn/neural_network/_multilayer_perceptron.py:686: ConvergenceWarning: Stochastic Optimizer: Maximum iterations (1000) reached and the optimization hasn't converged yet.\n",
      "  warnings.warn(\n"
     ]
    },
    {
     "name": "stdout",
     "output_type": "stream",
     "text": [
      "-0.18075081043782193\n"
     ]
    },
    {
     "name": "stderr",
     "output_type": "stream",
     "text": [
      "/Users/nick/opt/anaconda3/envs/FPL_project/lib/python3.11/site-packages/sklearn/neural_network/_multilayer_perceptron.py:686: ConvergenceWarning: Stochastic Optimizer: Maximum iterations (1000) reached and the optimization hasn't converged yet.\n",
      "  warnings.warn(\n"
     ]
    },
    {
     "name": "stdout",
     "output_type": "stream",
     "text": [
      "-0.06150455744144723\n"
     ]
    },
    {
     "name": "stderr",
     "output_type": "stream",
     "text": [
      "/Users/nick/opt/anaconda3/envs/FPL_project/lib/python3.11/site-packages/sklearn/neural_network/_multilayer_perceptron.py:686: ConvergenceWarning: Stochastic Optimizer: Maximum iterations (1000) reached and the optimization hasn't converged yet.\n",
      "  warnings.warn(\n"
     ]
    },
    {
     "name": "stdout",
     "output_type": "stream",
     "text": [
      "0.0948212745711643\n",
      "-0.4220030144265603\n"
     ]
    },
    {
     "name": "stderr",
     "output_type": "stream",
     "text": [
      "/Users/nick/opt/anaconda3/envs/FPL_project/lib/python3.11/site-packages/sklearn/neural_network/_multilayer_perceptron.py:686: ConvergenceWarning: Stochastic Optimizer: Maximum iterations (1000) reached and the optimization hasn't converged yet.\n",
      "  warnings.warn(\n"
     ]
    },
    {
     "data": {
      "image/png": "[encoded data removed]",
      "text/plain": [
       "<Figure size 432x288 with 4 Axes>"
      ]
     },
     "metadata": {
      "needs_background": "light"
     },
     "output_type": "display_data"
    }
   ],
   "source": [
    "from source.ML_analysis import build_mlp\n",
    "# build_mlp(input_df, predicted_value = 'total_points', scaler_type = 'standard', max_iter = 500, feature_selection = r_regression)\n",
    "# outputs = regr, scaler, feature_selector, d_type, data\n",
    "# test different mlp - with forwards only\n",
    "fig, axes = plt.subplots(nrows=1, ncols=4, sharey=True)\n",
    "y = 0\n",
    "for pos in [gg.keeper_ML, gg.defender_ML, gg.mid_ML, gg.forward_ML]:\n",
    "    regr, scaler, feature_selector, d_type, data = build_mlp(pos, max_iter = 1000, scaler_type = 'range', feature_selection = f_regression)\n",
    "    print(regr.score(data['X_test'][d_type], data['y_test']['raw']))\n",
    "    y_pred = regr.predict(data['X_test'][d_type])\n",
    "    xx = range(1,len(data['y_test']['raw'])+1)\n",
    "    axes[y].scatter(xx, data['y_test']['raw'])\n",
    "    axes[y].scatter(xx, y_pred, color = 'r')\n",
    "    #axes[y].set_title(f'MLP - {fs}')\n",
    "    y += 1"
   ]
  },
  {
   "cell_type": "code",
   "execution_count": 35,
   "id": "5a82d06c",
   "metadata": {},
   "outputs": [],
   "source": [
    "regr.score(data['X_test'][d_type], data['y_test']['raw'])\n",
    "y_pred = regr.predict(data['X_test'][d_type])"
   ]
  },
  {
   "cell_type": "code",
   "execution_count": 36,
   "id": "b9e059e8",
   "metadata": {},
   "outputs": [
    {
     "data": {
      "text/plain": [
       "<matplotlib.collections.PathCollection at 0x12d3f75d0>"
      ]
     },
     "execution_count": 36,
     "metadata": {},
     "output_type": "execute_result"
    },
    {
     "data": {
      "image/png": "[encoded data removed]",
      "text/plain": [
       "<Figure size 432x288 with 1 Axes>"
      ]
     },
     "metadata": {
      "needs_background": "light"
     },
     "output_type": "display_data"
    }
   ],
   "source": [
    "xx = range(1,len(data['y_test']['raw'])+1)\n",
    "plt.scatter(xx, data['y_test']['raw'])\n",
    "plt.scatter(xx, y_pred, color = 'r')"
   ]
  },
  {
   "cell_type": "code",
   "execution_count": null,
   "id": "6cda3cde",
   "metadata": {},
   "outputs": [],
   "source": [
    "y_scaler = preprocessing.MinMaxScaler()\n",
    "y_scaler.fit(gg.y_train)"
   ]
  },
  {
   "cell_type": "code",
   "execution_count": null,
   "id": "5d45d526",
   "metadata": {},
   "outputs": [],
   "source": [
    "from sklearn.feature_selection import r_regression, f_regression, mutual_info_regression"
   ]
  },
  {
   "cell_type": "code",
   "execution_count": null,
   "id": "7b53e249",
   "metadata": {},
   "outputs": [],
   "source": [
    "int(6.6)"
   ]
  },
  {
   "cell_type": "code",
   "execution_count": null,
   "id": "d0723904",
   "metadata": {},
   "outputs": [],
   "source": [
    "int(6.2)"
   ]
  },
  {
   "cell_type": "code",
   "execution_count": null,
   "id": "94569a7a",
   "metadata": {},
   "outputs": [],
   "source": []
  }
 ],
 "metadata": {
  "kernelspec": {
   "display_name": "Python 3 (ipykernel)",
   "language": "python",
   "name": "python3"
  },
  "language_info": {
   "codemirror_mode": {
    "name": "ipython",
    "version": 3
   },
   "file_extension": ".py",
   "mimetype": "text/x-python",
   "name": "python",
   "nbconvert_exporter": "python",
   "pygments_lexer": "ipython3",
   "version": "3.11.4"
  }
 },
 "nbformat": 4,
 "nbformat_minor": 5
}
